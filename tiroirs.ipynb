{
 "cells": [
  {
   "cell_type": "code",
   "execution_count": 33,
   "id": "37293fb2",
   "metadata": {},
   "outputs": [],
   "source": [
    "def multiples(nombre: int):\n",
    "    resultat = [1]\n",
    "    for candidat in range(2, int(nombre/2)):\n",
    "        if nombre % candidat == 0:\n",
    "            resultat.append(candidat)\n",
    "    resultat.append(nombre)\n",
    "    return resultat"
   ]
  },
  {
   "cell_type": "code",
   "execution_count": 31,
   "id": "4a8299d7",
   "metadata": {},
   "outputs": [
    {
     "name": "stdout",
     "output_type": "stream",
     "text": [
      "multiples(3)   = [1, 3]\n",
      "multiples(6)   = [1, 2, 3, 6]\n",
      "multiples(128) = [1, 2, 4, 8, 16, 32, 64, 128]\n"
     ]
    }
   ],
   "source": [
    "print(f'multiples(3)   = {multiples(3)}')\n",
    "print(f'multiples(6)   = {multiples(6)}')\n",
    "print(f'multiples(128) = {multiples(128)}')"
   ]
  },
  {
   "cell_type": "code",
   "execution_count": 42,
   "id": "681a8b56",
   "metadata": {},
   "outputs": [
    {
     "name": "stdout",
     "output_type": "stream",
     "text": [
      "tiroir 1: 0\n",
      "tiroir 2: 0\n",
      "tiroir 3: 0\n",
      "tiroir 4: 0\n",
      "tiroir 5: 0\n",
      "tiroir 6: 1\n",
      "tiroir 7: 0\n",
      "tiroir 8: 1\n",
      "tiroir 9: 1\n",
      "tiroir 10: 1\n",
      "tiroir 11: 0\n",
      "tiroir 12: 1\n",
      "tiroir 13: 0\n",
      "tiroir 14: 1\n",
      "tiroir 15: 0\n",
      "tiroir 16: 0\n",
      "tiroir 17: 0\n",
      "tiroir 18: 1\n",
      "tiroir 19: 0\n",
      "tiroir 20: 1\n",
      "tiroir 21: 0\n",
      "tiroir 22: 1\n",
      "tiroir 23: 0\n",
      "tiroir 24: 1\n",
      "tiroir 25: 1\n",
      "tiroir 26: 1\n",
      "tiroir 27: 0\n",
      "tiroir 28: 1\n",
      "tiroir 29: 0\n",
      "tiroir 30: 1\n",
      "tiroir 31: 0\n",
      "tiroir 32: 1\n",
      "tiroir 33: 0\n",
      "tiroir 34: 1\n",
      "tiroir 35: 0\n",
      "tiroir 36: 0\n",
      "tiroir 37: 0\n",
      "tiroir 38: 1\n",
      "tiroir 39: 0\n",
      "tiroir 40: 1\n",
      "tiroir 41: 0\n",
      "tiroir 42: 1\n",
      "tiroir 43: 0\n",
      "tiroir 44: 1\n",
      "tiroir 45: 0\n",
      "tiroir 46: 1\n",
      "tiroir 47: 0\n",
      "tiroir 48: 1\n",
      "tiroir 49: 1\n",
      "tiroir 50: 1\n",
      "tiroir 51: 0\n",
      "tiroir 52: 1\n",
      "tiroir 53: 0\n",
      "tiroir 54: 1\n",
      "tiroir 55: 0\n",
      "tiroir 56: 1\n",
      "tiroir 57: 0\n",
      "tiroir 58: 1\n",
      "tiroir 59: 0\n",
      "tiroir 60: 1\n",
      "tiroir 61: 0\n",
      "tiroir 62: 1\n",
      "tiroir 63: 0\n",
      "tiroir 64: 0\n",
      "tiroir 65: 0\n",
      "tiroir 66: 1\n",
      "tiroir 67: 0\n",
      "tiroir 68: 1\n",
      "tiroir 69: 0\n",
      "tiroir 70: 1\n",
      "tiroir 71: 0\n",
      "tiroir 72: 1\n",
      "tiroir 73: 0\n",
      "tiroir 74: 1\n",
      "tiroir 75: 0\n",
      "tiroir 76: 1\n",
      "tiroir 77: 0\n",
      "tiroir 78: 1\n",
      "tiroir 79: 0\n",
      "tiroir 80: 1\n",
      "tiroir 81: 1\n",
      "tiroir 82: 1\n",
      "tiroir 83: 0\n",
      "tiroir 84: 1\n",
      "tiroir 85: 0\n",
      "tiroir 86: 1\n",
      "tiroir 87: 0\n",
      "tiroir 88: 1\n",
      "tiroir 89: 0\n",
      "tiroir 90: 1\n",
      "tiroir 91: 0\n",
      "tiroir 92: 1\n",
      "tiroir 93: 0\n",
      "tiroir 94: 1\n",
      "tiroir 95: 0\n",
      "tiroir 96: 1\n",
      "tiroir 97: 0\n",
      "tiroir 98: 1\n",
      "tiroir 99: 0\n",
      "tiroir 100: 0\n",
      "nombre tiroirs ouverts : 48\n"
     ]
    }
   ],
   "source": [
    "nombre_tiroirs = 100\n",
    "nombre_tiroirs_ouverts = 0\n",
    "\n",
    "for tiroir in range(1, nombre_tiroirs+1):\n",
    "    etat_tiroir = len(multiples(tiroir)) % 2\n",
    "    print(f'tiroir {tiroir}: {etat_tiroir}')\n",
    "    if etat_tiroir == 1:\n",
    "        nombre_tiroirs_ouverts += 1\n",
    "\n",
    "print(f'nombre tiroirs ouverts : {nombre_tiroirs_ouverts}')"
   ]
  },
  {
   "cell_type": "code",
   "execution_count": null,
   "id": "0c77aaf9",
   "metadata": {},
   "outputs": [],
   "source": []
  }
 ],
 "metadata": {
  "kernelspec": {
   "display_name": "Python 3 (ipykernel)",
   "language": "python",
   "name": "python3"
  },
  "language_info": {
   "codemirror_mode": {
    "name": "ipython",
    "version": 3
   },
   "file_extension": ".py",
   "mimetype": "text/x-python",
   "name": "python",
   "nbconvert_exporter": "python",
   "pygments_lexer": "ipython3",
   "version": "3.8.10"
  }
 },
 "nbformat": 4,
 "nbformat_minor": 5
}
